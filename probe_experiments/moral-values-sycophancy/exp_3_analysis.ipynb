{
 "cells": [
  {
   "cell_type": "code",
   "execution_count": 1,
   "id": "433fd2cb",
   "metadata": {},
   "outputs": [],
   "source": [
    "import pandas as pd"
   ]
  },
  {
   "cell_type": "code",
   "execution_count": null,
   "id": "0faa4e04",
   "metadata": {},
   "outputs": [],
   "source": [
    "df = pd.read_csv(\"experiment_3_results.csv\")"
   ]
  },
  {
   "cell_type": "code",
   "execution_count": 3,
   "id": "b091c9ae",
   "metadata": {},
   "outputs": [
    {
     "name": "stdout",
     "output_type": "stream",
     "text": [
      "llama3_1_405b_instruct_fp8_conformity_delta: -0.3\n",
      "llama3_1_405b_instruct_fp8_fairness_delta: 0.0\n",
      "llama3_1_405b_instruct_fp8_hedonism_delta: 0.0\n",
      "llama3_1_405b_instruct_fp8_purity_delta: 0.1\n",
      "deepseek_v3_0324_conformity_delta: 0.1\n",
      "deepseek_v3_0324_fairness_delta: -0.1\n",
      "deepseek_v3_0324_hedonism_delta: 0.3\n",
      "deepseek_v3_0324_purity_delta: 0.3\n"
     ]
    }
   ],
   "source": [
    "models = [\n",
    "    'llama3_1_405b_instruct_fp8', \n",
    "    'deepseek_v3_0324'\n",
    "]\n",
    "\n",
    "moral_values = [\n",
    "    'conformity',\n",
    "    'fairness',\n",
    "    'hedonism',\n",
    "    'purity'\n",
    "]\n",
    "\n",
    "for model in models:\n",
    "    for value in moral_values:\n",
    "        base_col = f'{model}_no_values_score'\n",
    "        target_col = f'{model}_{value}_score'\n",
    "        delta_col = f'{model}_{value}_delta'\n",
    "        df[delta_col] = df[target_col] - df[base_col]\n",
    "\n",
    "        print(delta_col + \": \"+ str(df[delta_col].mean()))"
   ]
  }
 ],
 "metadata": {
  "kernelspec": {
   "display_name": ".venv",
   "language": "python",
   "name": "python3"
  },
  "language_info": {
   "codemirror_mode": {
    "name": "ipython",
    "version": 3
   },
   "file_extension": ".py",
   "mimetype": "text/x-python",
   "name": "python",
   "nbconvert_exporter": "python",
   "pygments_lexer": "ipython3",
   "version": "3.12.6"
  }
 },
 "nbformat": 4,
 "nbformat_minor": 5
}
